{
 "cells": [
  {
   "cell_type": "markdown",
   "metadata": {},
   "source": [
    "# LocalCoinSwap non-custodial Kusama integration."
   ]
  },
  {
   "cell_type": "markdown",
   "metadata": {},
   "source": [
    "## __Prelude: Peer-to-peer (P2P) vs centralized exchanges__\n",
    "\n",
    "Readers will likely be immediately familiar with the lines and charts offered on a typical exchange. A typical exchange maintains an orderbook of *bids* and *asks*, and automatically executes trades by matching buyers and sellers whenever bidding and asking prices collide. Trading on typical exchanges focuses around high-speed execution, and price speculation. It is not uncommon to see additional derivative features on offer such as margin lending, or contracts-for-difference (CFD's) aimed at technical analysis day traders.\n",
    "\n",
    "```\n",
    "\"The root problem with conventional currency is all the trust required to make it work.\"\n",
    "- Satoshi nakomoto\n",
    "```\n",
    "\n",
    "Centralized exchanges are such named as they provide a central point in which local currency is aggregated. They maintain bank account which users wire funds to, and receive funds from. Although some are decentralized, most also aggregate the cryptocurrency of their users into company-owned wallets. Trading on a centralised exchange involves sending your funds to the exchange, and trusting that they will be kept safe on your behalf.\n",
    "\n",
    "Not surprisingly, centralised exchanges raise important questions as regards privacy and security, as well as the growing corporate monopolisation of a cultural space whose ethos centers around decentralization.\n",
    "\n",
    "Many have been the victim of hacking or large scale theft, and many users have had their local currency seized or frozen for various reasons ranging from accusations of criminality, to simple inability to provide sufficient documentation to satisfy regulatory agencies.\n",
    "\n",
    "Centralised exchanges also have stringent KYC requirements, which require users to send personal identity documentation to the exchange. In the past there have been leaks of this information - leaving users of the exchange susceptible to identity theft.\n",
    "\n",
    "A peer-to-peer exchange provides no central aggregation of local currency. In a style akin to eBay, traders on the exchange create advertisements (called offers) which indicate which cryptocurrency they wish to buy or sell. Other traders contact them, and the exchange acts only to safeguard the process of users trading with each other - by providing an escrow service for the cryptocurrency being traded.\n",
    "\n",
    "By decentralizing the local currency funds, the peer-to-peer exchange has no ability to seize the fiat currency of users. Most importantly however, a peer-to-peer exchange enables large-scale accessibility of cryptocurrency to mainstream users in a way impossible for a centralized exchange to match.\n",
    "\n",
    "The requirement of centralized exchanges to maintain bank accounts requires them to be heavily restrictive on which payment methods they can offer, and which locations they can accept users.\n",
    "\n",
    "A peer-to-peer exchange, on the other hand, can support trading using any traditional payment method, in any location of the world.\n",
    "\n",
    "Over the course of this document, I will demonstrate a way in which Kusama can be integrated on a peer-to-peer exchange, with no need for the end user to hand over their private keys.\n",
    "\n",
    "I will show the cryptography underlining the process in a proof-of-concept fashion, and back this document up with tests for each individual process.\n"
   ]
  },
  {
   "cell_type": "markdown",
   "metadata": {},
   "source": [
    "## Part 1: The signup process"
   ]
  },
  {
   "cell_type": "markdown",
   "metadata": {},
   "source": [
    "When a user signs up to LocalCoinSwap, a 24 word *mnemonic phrase* is generated in their browser. This mnemonic phrase is encrypted with the users password, and stored on our backend. We do not know the users passwords, as they are hashed prior to login, so we are also unable to decrypt the users mnemonic phrase.\n",
    "\n",
    "When a user logs in, the mnemonic phrase is sent to the browser and decrypted. It is then used as the basis for their wallet addresses, and the signing of transactions. This is similar to many popular web-based wallets.\n",
    "\n",
    "Users can export their mnemonic phrase, and thus recover funds contained on the associated addresses outside of the exchange.\n",
    "\n",
    "For the purposes of this generation, I have written bindings to the rust modules which handle BIP39 and the sr25519 algorithm. In production, this functionality will be handled more simply by the Polkadot JS keypair module on the frontend."
   ]
  },
  {
   "cell_type": "code",
   "execution_count": 1,
   "metadata": {},
   "outputs": [
    {
     "name": "stdout",
     "output_type": "stream",
     "text": [
      "Raw seed from 24 word mnemonic:\n",
      "64c29cbfc0cec793d1c62a5d80261aa8a1c03535379cedbb0601c1f89ad2271e\n",
      "\n",
      "Public key:\n",
      "026cb1657e60212226cc8001b9c7eece72e58c5a218138ee93797a8ce38a1317\n",
      "\n",
      "Private key:\n",
      "dcfcd70c4095ac286c8c6390bece547b6724ff0569040ae7420bb30f9022e10bcd1fd45de0e527ef2a4ede9a7aeb28d7f90fcf0246d3ce0549939607d38f076a\n",
      "\n",
      "Kusama address:\n",
      "CdVuGwX71W4oRbXHsLuLQxNPns23rnSSiZwZPN4etWf6XYo\n"
     ]
    }
   ],
   "source": [
    "import binascii\n",
    "from substrateinterface.utils.ss58 import ss58_encode\n",
    "\n",
    "from bindings import bip39\n",
    "from bindings import sr25519\n",
    "\n",
    "\n",
    "example_mnemonic = (\n",
    "    \"boy impose motor jump pear car\"\n",
    "    \" pet exact gravity section amazing marble\"\n",
    "    \" exit trim two doctor depart rose\"\n",
    "    \" guitar injury today stock fruit surface\"\n",
    ")\n",
    "\n",
    "seed_bytes = bip39.bip39_to_mini_secret(example_mnemonic, \"\")\n",
    "seed_hex = bytearray(seed_bytes).hex()\n",
    "\n",
    "keypair = sr25519.pair_from_seed(bytes.fromhex(seed_hex))\n",
    "\n",
    "public_key = keypair[0].hex()\n",
    "private_key = keypair[1].hex()\n",
    "address = ss58_encode(keypair[0], 2)\n",
    "\n",
    "print(f\"Raw seed from 24 word mnemonic:\\n{seed_hex}\")\n",
    "print(f\"\\nPublic key:\\n{public_key}\")\n",
    "print(f\"\\nPrivate key:\\n{private_key}\")\n",
    "print(f\"\\nKusama address:\\n{address}\")"
   ]
  },
  {
   "cell_type": "markdown",
   "metadata": {},
   "source": [
    "## Part 2: Overview of the trade"
   ]
  },
  {
   "cell_type": "markdown",
   "metadata": {},
   "source": [
    "A trade on LocalCoinSwap has 3 participants: the buyer, the seller, and the arbitrator.\n",
    "\n",
    "It's important at this point to distinguish also between the creator of the trade offer (the *maker*), and the responder to the trade offer (the *taker*). A seller can be a maker or a taker of a trade offer, as can the buyer.\n",
    "\n",
    "The most intuitive trade example involves the seller as the maker, and the buyer as the taker. The seller signs up to LocalCoinSwap, and then creates an offer which advertise their desire to sell Kusama. The offer will specify terms and conditions of potential trades, such as the price, payment method, and location.\n",
    "\n",
    "The buyer also signs up to the platform, and responds to the sellers offer to create a *trade request*. Once the seller accepts the request, the trade begins.\n",
    "\n",
    "At this point a Kusama multisignature address is generated, using the addresses of the buyer, seller, and arbitrator. The seller prepares a transactions and places the funds in the multisignature escrow address.\n",
    "\n",
    "The buyer then pays the seller directly according to the conditions of the offer.\n",
    "\n",
    "After receiving payment, the seller then performs a special Kusama *approveAsMulti* transaction. This transaction specifies that they are giving permission for funds to travel from the escrow address to the buyer.\n",
    "\n",
    "As the address is multisignature, a second approval is required. The buyer has no Kusama yet to create a second approval, so instead the arbitrator performs a Kusama *asMulti* transaction, giving the second lot of approval.\n",
    "\n",
    "At this point the funds move automatically from the escrow address to the buyer, and the trade is complete. Feedback will be exchanged, and both parties move on - the buyer in posession of the Kusama, and the seller in posession of the local currency.\n",
    "\n",
    "Because the funds are in a multisignature address requiring 2/3 approval, and only the seller possesses his/her private keys, it is impossible for LocalCoinSwap to steal the funds from the users on the platform. It is also impossible for one party to defraud the other and escape with the cryptocurrency, because in a dispute the arbitrator can decide who receives the cryptocurrency.\n",
    "\n",
    "Following this abstract, I will demonstrate in full the blockchain functionality involved in conducting such a non-custodial trade.\n",
    "\n",
    "I will then cover all possible edge-case situations, such as disputes between the buyer and seller, or cancellation requests.\n",
    "\n",
    "Furthermore, I will demonstrate related cryptography required in the running of an exchange, such as gathering fee information, checking validity of published transactions, and dealing with error situations."
   ]
  },
  {
   "cell_type": "markdown",
   "metadata": {},
   "source": [
    "## Part 3: Starting a trade and generating the address"
   ]
  },
  {
   "cell_type": "markdown",
   "metadata": {},
   "source": [
    "First we get the addresses of the trade participants, and then convert them to account ID's.\n",
    "\n",
    "We then perform an ascending numerical sort before using our Rust binding to create the multisignature account ID.\n",
    "\n",
    "Finally we convert this multi-signature account ID into a Kusama address.\n",
    "\n",
    "This multi-signature address is now the basis of the trade betweent the 3 participants."
   ]
  },
  {
   "cell_type": "code",
   "execution_count": 6,
   "metadata": {},
   "outputs": [
    {
     "name": "stdout",
     "output_type": "stream",
     "text": [
      "\n",
      "Multi-signature escrow address:\n",
      "HFXXfXavDuKhLLBhFQTat2aaRQ5CMMw9mwswHzWi76m6iLt\n"
     ]
    }
   ],
   "source": [
    "import binascii\n",
    "\n",
    "from substrateinterface.utils.ss58 import ss58_decode\n",
    "\n",
    "from bindings import multisig\n",
    "\n",
    "# Example addresses used to construct a multisig\n",
    "buyer_addr = \"CdVuGwX71W4oRbXHsLuLQxNPns23rnSSiZwZPN4etWf6XYo\"\n",
    "seller_addr = \"J9aQobenjZjwWtU2MsnYdGomvcYbgauCnBeb8xGrcqznvJc\"\n",
    "admin_addr = \"HvqnQxDQbi3LL2URh7WQfcmi8b2ZWfBhu7TEDmyyn5VK8e2\"\n",
    "\n",
    "def kusama_addr_to_account_id(address):\n",
    "    decoded_addr = ss58_decode(address)\n",
    "    return bytes.fromhex(decoded_addr)\n",
    "\n",
    "buyer_id = kusama_addr_to_account_id(buyer_addr)\n",
    "seller_id = kusama_addr_to_account_id(seller_addr)\n",
    "admin_id = kusama_addr_to_account_id(admin_addr)\n",
    "\n",
    "# Kusama protocol requires ascending numerical sort of account ID's\n",
    "trade_addresses = sorted([buyer_id, seller_id, admin_id])\n",
    "\n",
    "escrow_addr = multisig.multi_account_id(trade_addresses, 2)\n",
    "escrow_addr = ss58_encode(bytearray(escrow_addr).hex(), 2)\n",
    "\n",
    "print(f\"\\nMulti-signature escrow address:\\n{escrow_addr}\")"
   ]
  },
  {
   "cell_type": "markdown",
   "metadata": {},
   "source": [
    "## Part 4: Sending funds into the escrow address"
   ]
  },
  {
   "cell_type": "markdown",
   "metadata": {},
   "source": [
    "The seller must now place the Kusama in the multisignature escrow address.\n",
    "\n",
    "To do this we gather some information on Blockchain fees, before constructing a *transfer* call from the wallet of the seller, into the escrow address.\n",
    "\n",
    "This call is broadcast and published to the Kusama blockchain.\n",
    "\n",
    "The buyer now verifies that the Kusama has been placed into escrow. In the Kusama network verifying escrow funding is relatively simple, requiring only a balance check of the escrow address. We will show this step for the sake of concept completeness."
   ]
  },
  {
   "cell_type": "markdown",
   "metadata": {},
   "source": [
    "## Part 5: Seller acknowledges receipt of funds"
   ]
  },
  {
   "cell_type": "markdown",
   "metadata": {},
   "source": [
    "Safe in the knowledge that the Kusama is in escrow, the buyer now makes a direct local currency transfer to the seller.\n",
    "\n",
    "Once the seller has received the payment, they then make an *approveAsMulti* call to the Kusama blockchain. This call wraps the hash of a transfer call to the buyers address.\n",
    "\n",
    "This call acknowledges the sellers desire to finalise the escrow in the buyers favour.\n",
    "\n",
    "The seller also makes a second *approveAsMulti* call, which acknowledges the trading fee given to the arbitrator.\n",
    "\n",
    "The trading fee is 1% of the value of the trade, and rewards the arbitrator for their role in safeguarding the escrow process, and paying to relay calls."
   ]
  },
  {
   "cell_type": "markdown",
   "metadata": {},
   "source": [
    "## Part 6: Arbitrator finalizes trade"
   ]
  },
  {
   "cell_type": "markdown",
   "metadata": {},
   "source": [
    "The multi-signature trade can now be completed, and publishing extrinsics to the Kusama blockchain requires payment in Kusama. However, the buyer does not possess any Kusama with which to make the transaction.\n",
    "\n",
    "To handle this, we instead have the arbitrator make the final call on their behalf.\n",
    "\n",
    "The arbitrator now constructs two *asMulti* calls, the first to finalise the escrow, and the second to receive the fee. Crucially, the timepoints of each of these calls must refer to the earlier *approveAsMulti* calls.\n",
    "\n",
    "These calls wrap the same transfer call used earlier to create the hash."
   ]
  },
  {
   "cell_type": "markdown",
   "metadata": {},
   "source": [
    "## Part 7: Cancelling a trade"
   ]
  },
  {
   "cell_type": "markdown",
   "metadata": {},
   "source": [
    "In this situation the Kusama has been placed in escrow, and both parties consent to the cancellation of the trade, and thus the return of the funds to the seller.\n",
    "\n",
    "As in the standard trade, we publish two transactions to the Blockchain, the first an approveAsMulti call for the transfer back to the seller, and the second asMulti call published by the arbitrator.\n",
    "\n",
    "In this situation no fee is charged by the arbitrator."
   ]
  },
  {
   "cell_type": "markdown",
   "metadata": {},
   "source": [
    "## Part 8: Disputes between the buyer and seller"
   ]
  },
  {
   "cell_type": "markdown",
   "metadata": {},
   "source": [
    "In this situation the buyer and seller has come to a disagreement about the rightful owner of the funds. Either the buyer or seller raises a *dispute ticket*, and asks the arbitrator to come to a decision about the rightful owner of the funds.\n",
    "\n",
    "In the situation where the arbitrator decides that the seller is the rightful owner, the transaction flow is the same as in the cancellation example.\n",
    "\n",
    "However, in the event that the buyer is the rightful owner, it can be assumed that the seller will be unwilling to publish an *approveAsMulti* transaction on the buyers behalf.\n",
    "\n",
    "Therefore, the arbitrator prepares three transactions.\n",
    "\n",
    "The first transaction is the simple transfer of a small amount of funds to the buyer, in order that they can pay for transaction fees.\n",
    "\n",
    "The second transaction is an *approveAsMulti* call for the fee which is paid to the arbitrator.\n",
    "\n",
    "The third transaction is an *approveAsMulti* call for the rest of the funds to travel to the buyer.\n",
    "\n",
    "The arbitrator publishes the first two transactions, and then awaits the buyer to publish an *asMulti* transaction for the fee.\n",
    "\n",
    "Once this occurs, the arbitrator publishes the final transaction, and the buyer then also finalises this with their own *asMulti* transaction."
   ]
  },
  {
   "cell_type": "code",
   "execution_count": null,
   "metadata": {},
   "outputs": [],
   "source": []
  }
 ],
 "metadata": {
  "kernelspec": {
   "display_name": "Python 3",
   "language": "python",
   "name": "python3"
  },
  "language_info": {
   "codemirror_mode": {
    "name": "ipython",
    "version": 3
   },
   "file_extension": ".py",
   "mimetype": "text/x-python",
   "name": "python",
   "nbconvert_exporter": "python",
   "pygments_lexer": "ipython3",
   "version": "3.8.1"
  }
 },
 "nbformat": 4,
 "nbformat_minor": 4
}
