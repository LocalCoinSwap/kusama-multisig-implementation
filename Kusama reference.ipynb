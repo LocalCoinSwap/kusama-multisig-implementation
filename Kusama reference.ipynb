{
 "cells": [
  {
   "cell_type": "markdown",
   "metadata": {},
   "source": [
    "# LocalCoinSwap non-custodial Kusama integration."
   ]
  },
  {
   "cell_type": "markdown",
   "metadata": {},
   "source": [
    "__What is a peer-to-peer exchange, and how does it differ from a traditional centralized cryptocurrency exchange?__\n",
    "\n",
    "Readers will likely be immediately familiar with the lines and charts offered on a typical exchange. A typical exchange maintains an orderbook of bids and asks, and automatically executes trades by matching buyers and sellers whenever bidding and asking prices collide. Trading on typical exchanges focuses around high-speed execution, and price speculation.\n",
    "\n",
    "Centralized exchanges are such named as they provide a central point in which local currency is aggregated. They maintain bank account which users wire funds to, and receive funds from. Although some are non-custodial, most also aggregate the cryptocurrency of their users into company-owned wallets. Trading on a centralised exchange involves sending your funds to the exchange, and trusting that they will be kept safe on your behalf.\n",
    "\n",
    "Not surprisingly, centralised exchanges raise important questions as regards privacy and security.\n",
    "\n",
    "Many have been the victim of hacking or large scale theft, and many users have had their local currency seized or frozen for various reasons ranging from accusations of criminality, to simple inability to provide sufficient documentation to satisfy regulatory agencies.\n",
    "\n",
    "Centralised exchanges also have stringent KYC requirements, which require users to send personal identity documentation to the exchange. In the past there have been leaks of this information - leaving users of the exchange susceptible to identity theft.\n",
    "\n",
    "A peer-to-peer exchange provides no central aggregation of local currency. In a style akin to eBay, traders on the exchange create advertisements (called offers) which indicate which cryptocurrency they wish to buy or sell. Other traders contact them, and the exchange acts only to safeguard the process of users trading with each other - by providing an escrow service for the cryptocurrency being traded.\n",
    "\n",
    "By decentralizing the local currency funds, the peer-to-peer exchange has no ability to seize the fiat currency of users. Most importantly however, a peer-to-peer exchange enables large-scale accessibility of cryptocurrency to mainstream users in a way impossible for a centralized exchange to match.\n",
    "\n",
    "The requirement of centralized exchanges to maintain bank accounts requires them to be heavily restrictive on which payment methods they can offer, and which locations they can accept users.\n",
    "\n",
    "A peer-to-peer exchange, on the other hand, can support trading using any traditional payment method, in any location of the world.\n",
    "\n",
    "__Traders on a peer-to-peer exchange like LocalCoinSwap do not have to trust the company with their local currency, but how can they be sure their cryptocurrency will not be seized or hacked?__\n",
    "\n",
    "Over the course of this document, I will demonstrate a way in which Kusama can be integrated on a peer-to-peer exchange, with no need for the end user to hand over their private keys.\n",
    "\n",
    "I will show the cryptography underlining the process in a proof-of-concept fashion, and back this document up with tests for each individual process.\n"
   ]
  },
  {
   "cell_type": "markdown",
   "metadata": {},
   "source": [
    "## Part 1: The signup process"
   ]
  },
  {
   "cell_type": "markdown",
   "metadata": {},
   "source": [
    "When a user signs up to LocalCoinSwap, a 24 word *mnemonic phrase* is generated in their browser. This mnemonic phrase is encrypted with the users password, and stored on our backend. We do not know the users passwords, as they are hashed prior to login, so we are also unable to decrypt the users mnemonic phrase.\n",
    "\n",
    "When a user logs in, the mnemonic phrase is sent to the browser and decrypted. It is then used as the basis for their wallet addresses, and the signing of transactions. This is similar to many popular web-based wallets.\n",
    "\n",
    "Users can export their mnemonic phrase, and thus recover funds contained on the associated addresses outside of the exchange.\n",
    "\n",
    "For the purposes of this generation, I have written bindings to the rust modules which handle BIP39 and the sr25519 algorithm. In production, this functionality will be handled more simply by the Polkadot JS keypair module on the frontend."
   ]
  },
  {
   "cell_type": "code",
   "execution_count": 18,
   "metadata": {},
   "outputs": [
    {
     "name": "stdout",
     "output_type": "stream",
     "text": [
      "Raw seed from 24 word mnemonic:\n",
      "64c29cbfc0cec793d1c62a5d80261aa8a1c03535379cedbb0601c1f89ad2271e\n",
      "\n",
      "Public key:\n",
      "026cb1657e60212226cc8001b9c7eece72e58c5a218138ee93797a8ce38a1317\n",
      "\n",
      "Private key:\n",
      "dcfcd70c4095ac286c8c6390bece547b6724ff0569040ae7420bb30f9022e10bcd1fd45de0e527ef2a4ede9a7aeb28d7f90fcf0246d3ce0549939607d38f076a\n",
      "\n",
      "Kusama address:\n",
      "CdVuGwX71W4oRbXHsLuLQxNPns23rnSSiZwZPN4etWf6XYo\n"
     ]
    }
   ],
   "source": [
    "import binascii\n",
    "from substrateinterface.utils.ss58 import ss58_encode\n",
    "\n",
    "from bindings import bip39\n",
    "from bindings import sr25519\n",
    "\n",
    "\n",
    "example_mnemonic = (\n",
    "    \"boy impose motor jump pear car\"\n",
    "    \" pet exact gravity section amazing marble\"\n",
    "    \" exit trim two doctor depart rose\"\n",
    "    \" guitar injury today stock fruit surface\"\n",
    ")\n",
    "\n",
    "seed_bytes = bip39.bip39_to_mini_secret(example_mnemonic, \"\")\n",
    "seed_hex = bytearray(seed_bytes).hex()\n",
    "\n",
    "keypair = sr25519.pair_from_seed(bytes.fromhex(seed_hex))\n",
    "\n",
    "public_key = keypair[0].hex()\n",
    "private_key = keypair[1].hex()\n",
    "address = ss58_encode(keypair[0], 2)\n",
    "\n",
    "print(f\"Raw seed from 24 word mnemonic:\\n{seed_hex}\")\n",
    "print(f\"\\nPublic key:\\n{public_key}\")\n",
    "print(f\"\\nPrivate key:\\n{private_key}\")\n",
    "print(f\"\\nKusama address:\\n{address}\")"
   ]
  },
  {
   "cell_type": "markdown",
   "metadata": {},
   "source": [
    "## Part 2: Overview of the trade"
   ]
  },
  {
   "cell_type": "markdown",
   "metadata": {},
   "source": [
    "## Part 3: Starting a trade and generating the address"
   ]
  },
  {
   "cell_type": "markdown",
   "metadata": {},
   "source": [
    "## Part 4: Sending funds into the escrow address"
   ]
  },
  {
   "cell_type": "markdown",
   "metadata": {},
   "source": [
    "## Part 5: Seller acknowledges receipt of funds"
   ]
  },
  {
   "cell_type": "markdown",
   "metadata": {},
   "source": [
    "## Part 6: Arbitrator finalizes trade"
   ]
  },
  {
   "cell_type": "markdown",
   "metadata": {},
   "source": [
    "## Part 7: Cancelling a trade"
   ]
  },
  {
   "cell_type": "markdown",
   "metadata": {},
   "source": [
    "## Part 8: Disputes between the buyer and seller"
   ]
  },
  {
   "cell_type": "code",
   "execution_count": null,
   "metadata": {},
   "outputs": [],
   "source": []
  }
 ],
 "metadata": {
  "kernelspec": {
   "display_name": "Python 3",
   "language": "python",
   "name": "python3"
  },
  "language_info": {
   "codemirror_mode": {
    "name": "ipython",
    "version": 3
   },
   "file_extension": ".py",
   "mimetype": "text/x-python",
   "name": "python",
   "nbconvert_exporter": "python",
   "pygments_lexer": "ipython3",
   "version": "3.8.1"
  }
 },
 "nbformat": 4,
 "nbformat_minor": 4
}
